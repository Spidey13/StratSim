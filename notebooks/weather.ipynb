{
 "cells": [
  {
   "cell_type": "code",
   "execution_count": 12,
   "metadata": {},
   "outputs": [
    {
     "name": "stderr",
     "output_type": "stream",
     "text": [
      "<>:3: SyntaxWarning: invalid escape sequence '\\P'\n",
      "<>:3: SyntaxWarning: invalid escape sequence '\\P'\n",
      "C:\\Users\\prath\\AppData\\Local\\Temp\\ipykernel_20296\\2061958922.py:3: SyntaxWarning: invalid escape sequence '\\P'\n",
      "  j = json.load(open('D:\\Projects\\F1\\data\\categories\\event_location.json', 'r'))\n"
     ]
    }
   ],
   "source": [
    "import json\n",
    "\n",
    "j = json.load(open('D:\\Projects\\F1\\data\\categories\\event_location.json', 'r'))"
   ]
  },
  {
   "cell_type": "code",
   "execution_count": 13,
   "metadata": {},
   "outputs": [],
   "source": [
    "api = \"f931e470304ac685eca162a8a2ba25c1\""
   ]
  },
  {
   "cell_type": "code",
   "execution_count": 14,
   "metadata": {},
   "outputs": [],
   "source": [
    "def get_weather_by_coordinates(latitude, longitude, api_key):\n",
    "        base_url = \"https://api.openweathermap.org/data/2.5/weather?\"\n",
    "        url = f\"{base_url}lat={latitude}&lon={longitude}&appid={api_key}&units=metric\"\n",
    "    \n",
    "        response = requests.get(url)\n",
    "        response.raise_for_status()  # Raise HTTPError for bad responses (4xx or 5xx)\n",
    "        return response.json()\n"
   ]
  },
  {
   "cell_type": "code",
   "execution_count": 15,
   "metadata": {},
   "outputs": [
    {
     "name": "stdout",
     "output_type": "stream",
     "text": [
      "{'coord': {'lon': 54.6031, 'lat': 24.4672}, 'weather': [{'id': 800, 'main': 'Clear', 'description': 'clear sky', 'icon': '01d'}], 'base': 'stations', 'main': {'temp': 45.1, 'feels_like': 40.32, 'temp_min': 44.05, 'temp_max': 45.1, 'pressure': 998, 'humidity': 5, 'sea_level': 998, 'grnd_level': 996}, 'visibility': 10000, 'wind': {'speed': 3.09, 'deg': 110}, 'clouds': {'all': 0}, 'dt': 1748071880, 'sys': {'type': 1, 'id': 7529, 'country': 'AE', 'sunrise': 1748050491, 'sunset': 1748098938}, 'timezone': 14400, 'id': 8057179, 'name': 'Minţaqat al Maţār', 'cod': 200}\n",
      "{'coord': {'lon': 144.9683, 'lat': -37.8497}, 'weather': [{'id': 804, 'main': 'Clouds', 'description': 'overcast clouds', 'icon': '04n'}], 'base': 'stations', 'main': {'temp': 17.27, 'feels_like': 16.41, 'temp_min': 16.68, 'temp_max': 17.89, 'pressure': 1008, 'humidity': 52, 'sea_level': 1008, 'grnd_level': 1006}, 'visibility': 10000, 'wind': {'speed': 3.58, 'deg': 311, 'gust': 9.39}, 'clouds': {'all': 100}, 'dt': 1748071881, 'sys': {'type': 2, 'id': 2008797, 'country': 'AU', 'sunrise': 1748035248, 'sunset': 1748070803}, 'timezone': 36000, 'id': 8029812, 'name': 'Saint Kilda West', 'cod': 200}\n",
      "{'coord': {'lon': 14.762, 'lat': 47.2229}, 'weather': [{'id': 802, 'main': 'Clouds', 'description': 'scattered clouds', 'icon': '03d'}], 'base': 'stations', 'main': {'temp': 8.94, 'feels_like': 8.94, 'temp_min': 8.94, 'temp_max': 8.94, 'pressure': 1017, 'humidity': 61, 'sea_level': 1017, 'grnd_level': 888}, 'visibility': 10000, 'wind': {'speed': 1.03, 'deg': 0}, 'clouds': {'all': 40}, 'dt': 1748071800, 'sys': {'type': 1, 'id': 6880, 'country': 'AT', 'sunrise': 1748056516, 'sunset': 1748112039}, 'timezone': 7200, 'id': 2779506, 'name': 'Flatschach', 'cod': 200}\n",
      "{'coord': {'lon': 49.8533, 'lat': 40.3725}, 'weather': [{'id': 801, 'main': 'Clouds', 'description': 'few clouds', 'icon': '02d'}], 'base': 'stations', 'main': {'temp': 23.97, 'feels_like': 23.41, 'temp_min': 23.97, 'temp_max': 23.97, 'pressure': 1013, 'humidity': 38, 'sea_level': 1013, 'grnd_level': 1011}, 'visibility': 10000, 'wind': {'speed': 3.09, 'deg': 360}, 'clouds': {'all': 20}, 'dt': 1748071881, 'sys': {'type': 1, 'id': 8841, 'country': 'AZ', 'sunrise': 1748049442, 'sunset': 1748102268}, 'timezone': 14400, 'id': 586854, 'name': 'Cherni Gorod', 'cod': 200}\n",
      "{'coord': {'lon': 50.5106, 'lat': 26.0325}, 'weather': [{'id': 800, 'main': 'Clear', 'description': 'clear sky', 'icon': '01d'}], 'base': 'stations', 'main': {'temp': 43.94, 'feels_like': 47.11, 'temp_min': 43.94, 'temp_max': 43.94, 'pressure': 998, 'humidity': 23, 'sea_level': 998, 'grnd_level': 997}, 'visibility': 10000, 'wind': {'speed': 2.14, 'deg': 12, 'gust': 3.88}, 'clouds': {'all': 0}, 'dt': 1748071881, 'sys': {'type': 1, 'id': 7397, 'country': 'BH', 'sunrise': 1748051293, 'sunset': 1748100102}, 'timezone': 10800, 'id': 290291, 'name': 'Bahrain', 'cod': 200}\n",
      "{'coord': {'lon': 5.9714, 'lat': 50.4372}, 'weather': [{'id': 803, 'main': 'Clouds', 'description': 'broken clouds', 'icon': '04d'}], 'base': 'stations', 'main': {'temp': 10.46, 'feels_like': 9.05, 'temp_min': 9.98, 'temp_max': 11.32, 'pressure': 1017, 'humidity': 57, 'sea_level': 1017, 'grnd_level': 964}, 'visibility': 10000, 'wind': {'speed': 4.12, 'deg': 220}, 'clouds': {'all': 75}, 'dt': 1748071881, 'sys': {'type': 1, 'id': 1244, 'country': 'BE', 'sunrise': 1748057839, 'sunset': 1748114936}, 'timezone': 7200, 'id': 2791834, 'name': 'Malmedy', 'cod': 200}\n",
      "{'coord': {'lon': -1.0148, 'lat': 52.0733}, 'weather': [{'id': 804, 'main': 'Clouds', 'description': 'overcast clouds', 'icon': '04d'}], 'base': 'stations', 'main': {'temp': 15.22, 'feels_like': 15.15, 'temp_min': 13.69, 'temp_max': 15.27, 'pressure': 1011, 'humidity': 90, 'sea_level': 1011, 'grnd_level': 998}, 'visibility': 10000, 'wind': {'speed': 0.45, 'deg': 60, 'gust': 3.58}, 'clouds': {'all': 100}, 'dt': 1748071881, 'sys': {'type': 2, 'id': 2026769, 'country': 'GB', 'sunrise': 1748059061, 'sunset': 1748117067}, 'timezone': 3600, 'id': 2637827, 'name': 'Silverstone', 'cod': 200}\n",
      "{'coord': {'lon': -73.5227, 'lat': 45.5035}, 'weather': [{'id': 804, 'main': 'Clouds', 'description': 'overcast clouds', 'icon': '04n'}], 'base': 'stations', 'main': {'temp': 7.01, 'feels_like': 4.02, 'temp_min': 6.25, 'temp_max': 7.41, 'pressure': 1010, 'humidity': 95, 'sea_level': 1010, 'grnd_level': 1006}, 'visibility': 10000, 'wind': {'speed': 4.63, 'deg': 30}, 'clouds': {'all': 100}, 'dt': 1748071881, 'sys': {'type': 1, 'id': 498, 'country': 'CA', 'sunrise': 1748078065, 'sunset': 1748132869}, 'timezone': -14400, 'id': 6077243, 'name': 'Montreal', 'cod': 200}\n",
      "{'coord': {'lon': 121.2197, 'lat': 31.3389}, 'weather': [{'id': 800, 'main': 'Clear', 'description': 'clear sky', 'icon': '01d'}], 'base': 'stations', 'main': {'temp': 23.99, 'feels_like': 23.44, 'temp_min': 23.99, 'temp_max': 23.99, 'pressure': 1012, 'humidity': 38, 'sea_level': 1012, 'grnd_level': 1012}, 'visibility': 10000, 'wind': {'speed': 8, 'deg': 350}, 'clouds': {'all': 0}, 'dt': 1748071882, 'sys': {'type': 1, 'id': 9659, 'country': 'CN', 'sunrise': 1748033670, 'sunset': 1748083782}, 'timezone': 28800, 'id': 1806508, 'name': 'Jiadingzhen', 'cod': 200}\n",
      "{'coord': {'lon': 4.5442, 'lat': 52.3878}, 'weather': [{'id': 802, 'main': 'Clouds', 'description': 'scattered clouds', 'icon': '03d'}], 'base': 'stations', 'main': {'temp': 13.34, 'feels_like': 12.79, 'temp_min': 12.72, 'temp_max': 13.86, 'pressure': 1012, 'humidity': 79, 'sea_level': 1012, 'grnd_level': 1012}, 'visibility': 10000, 'wind': {'speed': 8.05, 'deg': 229, 'gust': 8.94}, 'clouds': {'all': 40}, 'dt': 1748071620, 'sys': {'type': 2, 'id': 2024597, 'country': 'NL', 'sunrise': 1748057636, 'sunset': 1748115824}, 'timezone': 7200, 'id': 2744042, 'name': 'Zandvoort', 'cod': 200}\n",
      "{'coord': {'lon': 11.7147, 'lat': 44.3531}, 'weather': [{'id': 800, 'main': 'Clear', 'description': 'clear sky', 'icon': '01d'}], 'base': 'stations', 'main': {'temp': 15.4, 'feels_like': 14.9, 'temp_min': 13.97, 'temp_max': 15.4, 'pressure': 1016, 'humidity': 73, 'sea_level': 1016, 'grnd_level': 1003}, 'visibility': 10000, 'wind': {'speed': 1.95, 'deg': 10, 'gust': 2.4}, 'clouds': {'all': 3}, 'dt': 1748071882, 'sys': {'type': 2, 'id': 2033642, 'country': 'IT', 'sunrise': 1748057855, 'sunset': 1748112162}, 'timezone': 7200, 'id': 3175537, 'name': 'Imola', 'cod': 200}\n",
      "{'coord': {'lon': 19.2506, 'lat': 47.5817}, 'weather': [{'id': 803, 'main': 'Clouds', 'description': 'broken clouds', 'icon': '04d'}], 'base': 'stations', 'main': {'temp': 10.75, 'feels_like': 9.92, 'temp_min': 10.4, 'temp_max': 11.42, 'pressure': 1016, 'humidity': 78, 'sea_level': 1016, 'grnd_level': 995}, 'visibility': 10000, 'wind': {'speed': 4.63, 'deg': 340}, 'clouds': {'all': 75}, 'dt': 1748071882, 'sys': {'type': 2, 'id': 2009661, 'country': 'HU', 'sunrise': 1748055358, 'sunset': 1748111042}, 'timezone': 7200, 'id': 3047986, 'name': 'Mogyoród', 'cod': 200}\n",
      "{'coord': {'lon': 9.2894, 'lat': 45.6206}, 'weather': [{'id': 804, 'main': 'Clouds', 'description': 'overcast clouds', 'icon': '04d'}], 'base': 'stations', 'main': {'temp': 15.53, 'feels_like': 15.28, 'temp_min': 15.23, 'temp_max': 16.25, 'pressure': 1017, 'humidity': 82, 'sea_level': 1017, 'grnd_level': 995}, 'visibility': 10000, 'wind': {'speed': 0.45, 'deg': 36, 'gust': 2.68}, 'clouds': {'all': 92}, 'dt': 1748071882, 'sys': {'type': 2, 'id': 2000509, 'country': 'IT', 'sunrise': 1748058178, 'sunset': 1748113004}, 'timezone': 7200, 'id': 3182066, 'name': 'Biassono', 'cod': 200}\n",
      "{'coord': {'lon': 136.5377, 'lat': 34.8392}, 'weather': [{'id': 501, 'main': 'Rain', 'description': 'moderate rain', 'icon': '10d'}], 'base': 'stations', 'main': {'temp': 17.86, 'feels_like': 18, 'temp_min': 17.86, 'temp_max': 17.86, 'pressure': 1009, 'humidity': 88, 'sea_level': 1009, 'grnd_level': 1003}, 'visibility': 8610, 'wind': {'speed': 7.56, 'deg': 112, 'gust': 12.08}, 'rain': {'1h': 1.08}, 'clouds': {'all': 100}, 'dt': 1748071883, 'sys': {'type': 1, 'id': 8009, 'country': 'JP', 'sunrise': 1748029514, 'sunset': 1748080585}, 'timezone': 32400, 'id': 6696932, 'name': 'Kawage', 'cod': 200}\n",
      "{'coord': {'lon': -115.1605, 'lat': 36.1017}, 'weather': [{'id': 802, 'main': 'Clouds', 'description': 'scattered clouds', 'icon': '03n'}], 'base': 'stations', 'main': {'temp': 27.55, 'feels_like': 26.37, 'temp_min': 26.35, 'temp_max': 28.5, 'pressure': 1004, 'humidity': 17, 'sea_level': 1004, 'grnd_level': 931}, 'visibility': 10000, 'wind': {'speed': 8.75, 'deg': 200}, 'clouds': {'all': 40}, 'dt': 1748071883, 'sys': {'type': 1, 'id': 4664, 'country': 'US', 'sunrise': 1748089713, 'sunset': 1748141209}, 'timezone': -25200, 'id': 5509952, 'name': 'Paradise', 'cod': 200}\n",
      "{'coord': {'lon': -99.1548, 'lat': 19.4032}, 'weather': [{'id': 501, 'main': 'Rain', 'description': 'moderate rain', 'icon': '10n'}], 'base': 'stations', 'main': {'temp': 17.19, 'feels_like': 16.9, 'temp_min': 16.63, 'temp_max': 17.27, 'pressure': 1017, 'humidity': 74, 'sea_level': 1017, 'grnd_level': 754}, 'visibility': 10000, 'wind': {'speed': 6.71, 'deg': 170}, 'rain': {'1h': 1.42}, 'clouds': {'all': 100}, 'dt': 1748071631, 'sys': {'type': 2, 'id': 2097454, 'country': 'MX', 'sunrise': 1748087941, 'sunset': 1748135298}, 'timezone': -21600, 'id': 3521266, 'name': 'Portales', 'cod': 200}\n",
      "{'coord': {'lon': -80.238, 'lat': 25.958}, 'weather': [{'id': 800, 'main': 'Clear', 'description': 'clear sky', 'icon': '01n'}], 'base': 'stations', 'main': {'temp': 26.22, 'feels_like': 26.22, 'temp_min': 24.44, 'temp_max': 27.21, 'pressure': 1017, 'humidity': 86, 'sea_level': 1017, 'grnd_level': 1016}, 'visibility': 10000, 'wind': {'speed': 2.06, 'deg': 150}, 'clouds': {'all': 0}, 'dt': 1748071884, 'sys': {'type': 2, 'id': 2095874, 'country': 'US', 'sunrise': 1748082674, 'sunset': 1748131484}, 'timezone': -14400, 'id': 4161298, 'name': 'Lake Lucerne', 'cod': 200}\n",
      "{'coord': {'lon': 7.4206, 'lat': 43.7348}, 'weather': [{'id': 801, 'main': 'Clouds', 'description': 'few clouds', 'icon': '02d'}], 'base': 'stations', 'main': {'temp': 20.86, 'feels_like': 20.54, 'temp_min': 19.05, 'temp_max': 21.36, 'pressure': 1015, 'humidity': 59, 'sea_level': 1015, 'grnd_level': 1004}, 'visibility': 10000, 'wind': {'speed': 2.57, 'deg': 330}, 'clouds': {'all': 20}, 'dt': 1748071885, 'sys': {'type': 2, 'id': 2085874, 'country': 'MC', 'sunrise': 1748059007, 'sunset': 1748113072}, 'timezone': 7200, 'id': 3009937, 'name': 'La Condamine', 'cod': 200}\n",
      "{'coord': {'lon': 51.5494, 'lat': 25.3971}, 'weather': [{'id': 800, 'main': 'Clear', 'description': 'clear sky', 'icon': '01d'}], 'base': 'stations', 'main': {'temp': 42.05, 'feels_like': 40.2, 'temp_min': 41, 'temp_max': 42.05, 'pressure': 998, 'humidity': 14, 'sea_level': 998, 'grnd_level': 997}, 'visibility': 10000, 'wind': {'speed': 1.54, 'deg': 90}, 'clouds': {'all': 0}, 'dt': 1748071973, 'sys': {'type': 1, 'id': 7614, 'country': 'QA', 'sunrise': 1748051117, 'sunset': 1748099778}, 'timezone': 10800, 'id': 290030, 'name': 'Doha', 'cod': 200}\n",
      "{'coord': {'lon': 39.1042, 'lat': 21.6333}, 'weather': [{'id': 800, 'main': 'Clear', 'description': 'clear sky', 'icon': '01d'}], 'base': 'stations', 'main': {'temp': 34.03, 'feels_like': 33.89, 'temp_min': 34.03, 'temp_max': 34.03, 'pressure': 1006, 'humidity': 33, 'sea_level': 1006, 'grnd_level': 1003}, 'visibility': 10000, 'wind': {'speed': 7.2, 'deg': 330}, 'clouds': {'all': 0}, 'dt': 1748071973, 'sys': {'type': 1, 'id': 7410, 'country': 'SA', 'sunrise': 1748054525, 'sunset': 1748102345}, 'timezone': 10800, 'id': 105343, 'name': 'Jeddah', 'cod': 200}\n",
      "{'coord': {'lon': 103.8595, 'lat': 1.2883}, 'weather': [{'id': 803, 'main': 'Clouds', 'description': 'broken clouds', 'icon': '04d'}], 'base': 'stations', 'main': {'temp': 34.04, 'feels_like': 38.48, 'temp_min': 31.99, 'temp_max': 34.04, 'pressure': 1005, 'humidity': 50, 'sea_level': 1005, 'grnd_level': 1004}, 'visibility': 10000, 'wind': {'speed': 6.69, 'deg': 180}, 'clouds': {'all': 75}, 'dt': 1748071945, 'sys': {'type': 1, 'id': 9470, 'country': 'SG', 'sunrise': 1748040962, 'sunset': 1748084823}, 'timezone': 28800, 'id': 1880252, 'name': 'Singapore', 'cod': 200}\n",
      "{'coord': {'lon': 2.261, 'lat': 41.57}, 'weather': [{'id': 800, 'main': 'Clear', 'description': 'clear sky', 'icon': '01d'}], 'base': 'stations', 'main': {'temp': 18.31, 'feels_like': 17.97, 'temp_min': 17.15, 'temp_max': 19.7, 'pressure': 1019, 'humidity': 68, 'sea_level': 1019, 'grnd_level': 992}, 'visibility': 10000, 'wind': {'speed': 0.51, 'deg': 140}, 'clouds': {'all': 0}, 'dt': 1748071974, 'sys': {'type': 2, 'id': 2083085, 'country': 'ES', 'sunrise': 1748060649, 'sunset': 1748113907}, 'timezone': 7200, 'id': 6356165, 'name': 'Montornès del Vallès', 'cod': 200}\n",
      "{'coord': {'lon': -46.6994, 'lat': -23.7036}, 'weather': [{'id': 803, 'main': 'Clouds', 'description': 'broken clouds', 'icon': '04n'}], 'base': 'stations', 'main': {'temp': 16.16, 'feels_like': 16.29, 'temp_min': 16.08, 'temp_max': 17.15, 'pressure': 1023, 'humidity': 94, 'sea_level': 1023, 'grnd_level': 931}, 'visibility': 10000, 'wind': {'speed': 2.57, 'deg': 140}, 'clouds': {'all': 75}, 'dt': 1748071974, 'sys': {'type': 1, 'id': 8446, 'country': 'BR', 'sunrise': 1748079500, 'sunset': 1748118558}, 'timezone': -10800, 'id': 3464739, 'name': 'Diadema', 'cod': 200}\n"
     ]
    }
   ],
   "source": [
    "import requests\n",
    "\n",
    "latitude = 35.6895  # Example: Tokyo latitude\n",
    "longitude = 139.6917 \n",
    "\n",
    "for lat, lon in  j.values():\n",
    "    try:\n",
    "        weather_data = get_weather_by_coordinates(lat, lon, api)\n",
    "        print(weather_data)\n",
    "    except requests.exceptions.HTTPError as e:\n",
    "        print(f\"HTTP error occurred: {e}\")\n",
    "    except Exception as e:\n",
    "        print(f\"An error occurred: {e}\")"
   ]
  },
  {
   "cell_type": "code",
   "execution_count": null,
   "metadata": {},
   "outputs": [],
   "source": []
  }
 ],
 "metadata": {
  "kernelspec": {
   "display_name": "F1",
   "language": "python",
   "name": "python3"
  },
  "language_info": {
   "codemirror_mode": {
    "name": "ipython",
    "version": 3
   },
   "file_extension": ".py",
   "mimetype": "text/x-python",
   "name": "python",
   "nbconvert_exporter": "python",
   "pygments_lexer": "ipython3",
   "version": "3.13.2"
  }
 },
 "nbformat": 4,
 "nbformat_minor": 2
}

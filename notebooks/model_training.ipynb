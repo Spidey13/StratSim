{
 "cells": [
  {
   "cell_type": "markdown",
   "metadata": {},
   "source": [
    "# F1 Lap Time Prediction - Model Training\n",
    "\n",
    "This notebook demonstrates the training of a base model for predicting F1 lap times based on various features."
   ]
  },
  {
   "cell_type": "markdown",
   "metadata": {},
   "source": [
    "## 1. Setup and Imports"
   ]
  },
  {
   "cell_type": "code",
   "execution_count": 2,
   "metadata": {},
   "outputs": [],
   "source": [
    "import pandas as pd\n",
    "import numpy as np\n",
    "import matplotlib.pyplot as plt\n",
    "import seaborn as sns\n",
    "from sklearn.model_selection import train_test_split, cross_val_score\n",
    "from sklearn.preprocessing import StandardScaler\n",
    "from sklearn.metrics import mean_squared_error, r2_score\n",
    "from sklearn.ensemble import RandomForestRegressor\n",
    "import joblib\n",
    "import os\n",
    "\n",
    "# Set random seed for reproducibility\n",
    "np.random.seed(42)\n",
    "\n",
    "# Set plot style\n",
    "# plt.style.use('seaborn')\n",
    "sns.set_palette('husl')"
   ]
  },
  {
   "cell_type": "markdown",
   "metadata": {},
   "source": [
    "## 2. Data Loading and Preprocessing"
   ]
  },
  {
   "cell_type": "code",
   "execution_count": 3,
   "metadata": {},
   "outputs": [
    {
     "name": "stdout",
     "output_type": "stream",
     "text": [
      "Dataset shape: (33198, 43)\n",
      "\n",
      "First few rows:\n"
     ]
    },
    {
     "name": "stderr",
     "output_type": "stream",
     "text": [
      "C:\\Users\\prath\\AppData\\Local\\Temp\\ipykernel_5156\\1795521103.py:3: DtypeWarning: Columns (24) have mixed types. Specify dtype option on import or set low_memory=False.\n",
      "  df = pd.read_csv(data_path)\n"
     ]
    },
    {
     "data": {
      "text/html": [
       "<div>\n",
       "<style scoped>\n",
       "    .dataframe tbody tr th:only-of-type {\n",
       "        vertical-align: middle;\n",
       "    }\n",
       "\n",
       "    .dataframe tbody tr th {\n",
       "        vertical-align: top;\n",
       "    }\n",
       "\n",
       "    .dataframe thead th {\n",
       "        text-align: right;\n",
       "    }\n",
       "</style>\n",
       "<table border=\"1\" class=\"dataframe\">\n",
       "  <thead>\n",
       "    <tr style=\"text-align: right;\">\n",
       "      <th></th>\n",
       "      <th>Time</th>\n",
       "      <th>Driver</th>\n",
       "      <th>DriverNumber</th>\n",
       "      <th>LapTime</th>\n",
       "      <th>LapNumber</th>\n",
       "      <th>Stint</th>\n",
       "      <th>PitOutTime</th>\n",
       "      <th>PitInTime</th>\n",
       "      <th>Sector1Time</th>\n",
       "      <th>Sector2Time</th>\n",
       "      <th>...</th>\n",
       "      <th>SpeedI2_Diff</th>\n",
       "      <th>SpeedFL_Diff</th>\n",
       "      <th>SpeedST_Diff</th>\n",
       "      <th>PitStopDuration</th>\n",
       "      <th>PitLap</th>\n",
       "      <th>StintLength</th>\n",
       "      <th>SectorSum</th>\n",
       "      <th>LapTimeDelta</th>\n",
       "      <th>PositionChange</th>\n",
       "      <th>StintNumber</th>\n",
       "    </tr>\n",
       "  </thead>\n",
       "  <tbody>\n",
       "    <tr>\n",
       "      <th>0</th>\n",
       "      <td>1081.997</td>\n",
       "      <td>VER</td>\n",
       "      <td>1</td>\n",
       "      <td>94.247</td>\n",
       "      <td>1</td>\n",
       "      <td>1.0</td>\n",
       "      <td>956.201</td>\n",
       "      <td>NaN</td>\n",
       "      <td>30.62343</td>\n",
       "      <td>44.778</td>\n",
       "      <td>...</td>\n",
       "      <td>NaN</td>\n",
       "      <td>NaN</td>\n",
       "      <td>NaN</td>\n",
       "      <td>NaN</td>\n",
       "      <td>True</td>\n",
       "      <td>26</td>\n",
       "      <td>124.87043</td>\n",
       "      <td>NaN</td>\n",
       "      <td>NaN</td>\n",
       "      <td>1</td>\n",
       "    </tr>\n",
       "    <tr>\n",
       "      <th>1</th>\n",
       "      <td>1175.532</td>\n",
       "      <td>VER</td>\n",
       "      <td>1</td>\n",
       "      <td>93.535</td>\n",
       "      <td>2</td>\n",
       "      <td>1.0</td>\n",
       "      <td>NaN</td>\n",
       "      <td>NaN</td>\n",
       "      <td>28.53400</td>\n",
       "      <td>36.657</td>\n",
       "      <td>...</td>\n",
       "      <td>NaN</td>\n",
       "      <td>NaN</td>\n",
       "      <td>NaN</td>\n",
       "      <td>NaN</td>\n",
       "      <td>False</td>\n",
       "      <td>26</td>\n",
       "      <td>93.53500</td>\n",
       "      <td>-0.712</td>\n",
       "      <td>NaN</td>\n",
       "      <td>1</td>\n",
       "    </tr>\n",
       "    <tr>\n",
       "      <th>2</th>\n",
       "      <td>1267.677</td>\n",
       "      <td>VER</td>\n",
       "      <td>1</td>\n",
       "      <td>92.145</td>\n",
       "      <td>3</td>\n",
       "      <td>1.0</td>\n",
       "      <td>NaN</td>\n",
       "      <td>NaN</td>\n",
       "      <td>28.44100</td>\n",
       "      <td>36.572</td>\n",
       "      <td>...</td>\n",
       "      <td>-2.0</td>\n",
       "      <td>-1.0</td>\n",
       "      <td>-1.0</td>\n",
       "      <td>NaN</td>\n",
       "      <td>False</td>\n",
       "      <td>26</td>\n",
       "      <td>92.14500</td>\n",
       "      <td>-1.390</td>\n",
       "      <td>NaN</td>\n",
       "      <td>1</td>\n",
       "    </tr>\n",
       "    <tr>\n",
       "      <th>3</th>\n",
       "      <td>1425.559</td>\n",
       "      <td>VER</td>\n",
       "      <td>1</td>\n",
       "      <td>157.864</td>\n",
       "      <td>4</td>\n",
       "      <td>1.0</td>\n",
       "      <td>NaN</td>\n",
       "      <td>NaN</td>\n",
       "      <td>48.38700</td>\n",
       "      <td>69.690</td>\n",
       "      <td>...</td>\n",
       "      <td>-44.0</td>\n",
       "      <td>-1.0</td>\n",
       "      <td>-162.0</td>\n",
       "      <td>NaN</td>\n",
       "      <td>False</td>\n",
       "      <td>26</td>\n",
       "      <td>157.86400</td>\n",
       "      <td>65.719</td>\n",
       "      <td>NaN</td>\n",
       "      <td>1</td>\n",
       "    </tr>\n",
       "    <tr>\n",
       "      <th>4</th>\n",
       "      <td>1516.278</td>\n",
       "      <td>VER</td>\n",
       "      <td>1</td>\n",
       "      <td>90.719</td>\n",
       "      <td>5</td>\n",
       "      <td>1.0</td>\n",
       "      <td>NaN</td>\n",
       "      <td>NaN</td>\n",
       "      <td>28.10900</td>\n",
       "      <td>36.109</td>\n",
       "      <td>...</td>\n",
       "      <td>46.0</td>\n",
       "      <td>3.0</td>\n",
       "      <td>162.0</td>\n",
       "      <td>NaN</td>\n",
       "      <td>False</td>\n",
       "      <td>26</td>\n",
       "      <td>90.71900</td>\n",
       "      <td>-67.145</td>\n",
       "      <td>NaN</td>\n",
       "      <td>1</td>\n",
       "    </tr>\n",
       "  </tbody>\n",
       "</table>\n",
       "<p>5 rows × 43 columns</p>\n",
       "</div>"
      ],
      "text/plain": [
       "       Time Driver  DriverNumber  LapTime  LapNumber  Stint  PitOutTime  \\\n",
       "0  1081.997    VER             1   94.247          1    1.0     956.201   \n",
       "1  1175.532    VER             1   93.535          2    1.0         NaN   \n",
       "2  1267.677    VER             1   92.145          3    1.0         NaN   \n",
       "3  1425.559    VER             1  157.864          4    1.0         NaN   \n",
       "4  1516.278    VER             1   90.719          5    1.0         NaN   \n",
       "\n",
       "   PitInTime  Sector1Time  Sector2Time  ...  SpeedI2_Diff  SpeedFL_Diff  \\\n",
       "0        NaN     30.62343       44.778  ...           NaN           NaN   \n",
       "1        NaN     28.53400       36.657  ...           NaN           NaN   \n",
       "2        NaN     28.44100       36.572  ...          -2.0          -1.0   \n",
       "3        NaN     48.38700       69.690  ...         -44.0          -1.0   \n",
       "4        NaN     28.10900       36.109  ...          46.0           3.0   \n",
       "\n",
       "   SpeedST_Diff  PitStopDuration  PitLap  StintLength  SectorSum  \\\n",
       "0           NaN              NaN    True           26  124.87043   \n",
       "1           NaN              NaN   False           26   93.53500   \n",
       "2          -1.0              NaN   False           26   92.14500   \n",
       "3        -162.0              NaN   False           26  157.86400   \n",
       "4         162.0              NaN   False           26   90.71900   \n",
       "\n",
       "   LapTimeDelta  PositionChange StintNumber  \n",
       "0           NaN             NaN           1  \n",
       "1        -0.712             NaN           1  \n",
       "2        -1.390             NaN           1  \n",
       "3        65.719             NaN           1  \n",
       "4       -67.145             NaN           1  \n",
       "\n",
       "[5 rows x 43 columns]"
      ]
     },
     "metadata": {},
     "output_type": "display_data"
    },
    {
     "name": "stdout",
     "output_type": "stream",
     "text": [
      "\n",
      "Data types:\n"
     ]
    },
    {
     "data": {
      "text/plain": [
       "Time                  float64\n",
       "Driver                 object\n",
       "DriverNumber            int64\n",
       "LapTime               float64\n",
       "LapNumber               int64\n",
       "Stint                 float64\n",
       "PitOutTime            float64\n",
       "PitInTime             float64\n",
       "Sector1Time           float64\n",
       "Sector2Time           float64\n",
       "Sector3Time           float64\n",
       "Sector1SessionTime    float64\n",
       "Sector2SessionTime    float64\n",
       "Sector3SessionTime    float64\n",
       "SpeedI1               float64\n",
       "SpeedI2               float64\n",
       "SpeedFL               float64\n",
       "SpeedST               float64\n",
       "IsPersonalBest           bool\n",
       "Compound               object\n",
       "TyreLife                int64\n",
       "FreshTyre                bool\n",
       "Team                   object\n",
       "LapStartTime          float64\n",
       "TrackStatus            object\n",
       "Position              float64\n",
       "Deleted                  bool\n",
       "FastF1Generated          bool\n",
       "IsAccurate               bool\n",
       "Event                  object\n",
       "Year                    int64\n",
       "Session                object\n",
       "SpeedI1_Diff          float64\n",
       "SpeedI2_Diff          float64\n",
       "SpeedFL_Diff          float64\n",
       "SpeedST_Diff          float64\n",
       "PitStopDuration       float64\n",
       "PitLap                   bool\n",
       "StintLength             int64\n",
       "SectorSum             float64\n",
       "LapTimeDelta          float64\n",
       "PositionChange        float64\n",
       "StintNumber             int64\n",
       "dtype: object"
      ]
     },
     "metadata": {},
     "output_type": "display_data"
    },
    {
     "name": "stdout",
     "output_type": "stream",
     "text": [
      "\n",
      "Missing values:\n"
     ]
    },
    {
     "data": {
      "text/plain": [
       "Time                      0\n",
       "Driver                    0\n",
       "DriverNumber              0\n",
       "LapTime                   0\n",
       "LapNumber                 0\n",
       "Stint                     0\n",
       "PitOutTime            30102\n",
       "PitInTime             30091\n",
       "Sector1Time               0\n",
       "Sector2Time               0\n",
       "Sector3Time               0\n",
       "Sector1SessionTime     2424\n",
       "Sector2SessionTime      211\n",
       "Sector3SessionTime      599\n",
       "SpeedI1                4537\n",
       "SpeedI2                2460\n",
       "SpeedFL                4928\n",
       "SpeedST                3642\n",
       "IsPersonalBest            0\n",
       "Compound                  0\n",
       "TyreLife                  0\n",
       "FreshTyre                 0\n",
       "Team                      0\n",
       "LapStartTime              0\n",
       "TrackStatus               0\n",
       "Position               7813\n",
       "Deleted                   0\n",
       "FastF1Generated           0\n",
       "IsAccurate                0\n",
       "Event                     0\n",
       "Year                      0\n",
       "Session                   0\n",
       "SpeedI1_Diff           8573\n",
       "SpeedI2_Diff           4752\n",
       "SpeedFL_Diff           7805\n",
       "SpeedST_Diff           6904\n",
       "PitStopDuration       33074\n",
       "PitLap                    0\n",
       "StintLength               0\n",
       "SectorSum                 0\n",
       "LapTimeDelta            918\n",
       "PositionChange         8263\n",
       "StintNumber               0\n",
       "dtype: int64"
      ]
     },
     "metadata": {},
     "output_type": "display_data"
    }
   ],
   "source": [
    "# Load the cleaned data\n",
    "data_path = '../data/processed/f1_2023_cleaned.csv'\n",
    "df = pd.read_csv(data_path)\n",
    "\n",
    "# Display basic information\n",
    "print(f\"Dataset shape: {df.shape}\")\n",
    "print(\"\\nFirst few rows:\")\n",
    "display(df.head())\n",
    "print(\"\\nData types:\")\n",
    "display(df.dtypes)\n",
    "print(\"\\nMissing values:\")\n",
    "display(df.isnull().sum())"
   ]
  },
  {
   "cell_type": "markdown",
   "metadata": {},
   "source": [
    "## 3. Feature Engineering"
   ]
  },
  {
   "cell_type": "code",
   "execution_count": 4,
   "metadata": {},
   "outputs": [
    {
     "name": "stdout",
     "output_type": "stream",
     "text": [
      "Training set shape: (26558, 31)\n",
      "Test set shape: (6640, 31)\n"
     ]
    }
   ],
   "source": [
    "# Define features and target\n",
    "target = 'LapTime'\n",
    "\n",
    "# Select features for the base model\n",
    "features = [\n",
    "    # Basic lap information\n",
    "    'LapNumber', 'Stint', 'StintNumber', 'StintLength',\n",
    "    \n",
    "    # Sector times\n",
    "    'Sector1Time', 'Sector2Time', 'Sector3Time', 'SectorSum',\n",
    "    \n",
    "    # Speed data\n",
    "    'SpeedI1', 'SpeedI2', 'SpeedFL', 'SpeedST',\n",
    "    \n",
    "    # Tire information\n",
    "    'TyreLife', 'Compound', 'FreshTyre',\n",
    "    \n",
    "    # Position and track status\n",
    "    'Position', 'PositionChange', 'TrackStatus',\n",
    "    \n",
    "    # Lap characteristics\n",
    "    'PitLap', 'LapTimeDelta'\n",
    "]\n",
    "\n",
    "# Create feature matrix and target vector\n",
    "X = df[features]\n",
    "y = df[target]\n",
    "\n",
    "# Handle categorical variables\n",
    "X = pd.get_dummies(X, columns=['Compound', 'TrackStatus'])\n",
    "\n",
    "# Split the data\n",
    "X_train, X_test, y_train, y_test = train_test_split(\n",
    "    X, y, test_size=0.2, random_state=42\n",
    ")\n",
    "\n",
    "# Scale the features\n",
    "scaler = StandardScaler()\n",
    "X_train_scaled = scaler.fit_transform(X_train)\n",
    "X_test_scaled = scaler.transform(X_test)\n",
    "\n",
    "print(f\"Training set shape: {X_train.shape}\")\n",
    "print(f\"Test set shape: {X_test.shape}\")"
   ]
  },
  {
   "cell_type": "markdown",
   "metadata": {},
   "source": [
    "## 4. Model Training"
   ]
  },
  {
   "cell_type": "code",
   "execution_count": 5,
   "metadata": {},
   "outputs": [
    {
     "name": "stdout",
     "output_type": "stream",
     "text": [
      "Root Mean Squared Error: 1.60\n",
      "R-squared Score: 0.99\n"
     ]
    }
   ],
   "source": [
    "# Initialize and train the model\n",
    "model = RandomForestRegressor(\n",
    "    n_estimators=100,\n",
    "    max_depth=10,\n",
    "    random_state=42,\n",
    "    n_jobs=-1\n",
    ")\n",
    "\n",
    "model.fit(X_train_scaled, y_train)\n",
    "\n",
    "# Make predictions\n",
    "y_pred = model.predict(X_test_scaled)\n",
    "\n",
    "# Calculate metrics\n",
    "mse = mean_squared_error(y_test, y_pred)\n",
    "rmse = np.sqrt(mse)\n",
    "r2 = r2_score(y_test, y_pred)\n",
    "\n",
    "print(f\"Root Mean Squared Error: {rmse:.2f}\")\n",
    "print(f\"R-squared Score: {r2:.2f}\")"
   ]
  },
  {
   "cell_type": "markdown",
   "metadata": {},
   "source": [
    "## 5. Model Evaluation and Visualization"
   ]
  },
  {
   "cell_type": "code",
   "execution_count": 6,
   "metadata": {},
   "outputs": [
    {
     "data": {
      "image/png": "[encoded data removed]",
      "text/plain": [
       "<Figure size 1200x600 with 1 Axes>"
      ]
     },
     "metadata": {},
     "output_type": "display_data"
    },
    {
     "data": {
      "image/png": "[encoded data removed]",
      "text/plain": [
       "<Figure size 1000x600 with 1 Axes>"
      ]
     },
     "metadata": {},
     "output_type": "display_data"
    }
   ],
   "source": [
    "# Feature importance\n",
    "feature_importance = pd.DataFrame({\n",
    "    'feature': X.columns,\n",
    "    'importance': model.feature_importances_\n",
    "}).sort_values('importance', ascending=False)\n",
    "\n",
    "plt.figure(figsize=(12, 6))\n",
    "sns.barplot(x='importance', y='feature', data=feature_importance.head(10))\n",
    "plt.title('Top 10 Most Important Features')\n",
    "plt.tight_layout()\n",
    "plt.show()\n",
    "\n",
    "# Actual vs Predicted plot\n",
    "plt.figure(figsize=(10, 6))\n",
    "plt.scatter(y_test, y_pred, alpha=0.5)\n",
    "plt.plot([y_test.min(), y_test.max()], [y_test.min(), y_test.max()], 'r--')\n",
    "plt.xlabel('Actual Lap Time (seconds)')\n",
    "plt.ylabel('Predicted Lap Time (seconds)')\n",
    "plt.title('Actual vs Predicted Lap Times')\n",
    "plt.tight_layout()\n",
    "plt.show()"
   ]
  },
  {
   "cell_type": "markdown",
   "metadata": {},
   "source": [
    "## 6. Model Persistence"
   ]
  },
  {
   "cell_type": "code",
   "execution_count": 7,
   "metadata": {},
   "outputs": [
    {
     "name": "stdout",
     "output_type": "stream",
     "text": [
      "Model and scaler saved successfully!\n"
     ]
    }
   ],
   "source": [
    "# Create models directory if it doesn't exist\n",
    "models_dir = '../models'\n",
    "if not os.path.exists(models_dir):\n",
    "    os.makedirs(models_dir)\n",
    "\n",
    "# Save the model and scaler\n",
    "joblib.dump(model, os.path.join(models_dir, 'base_model.joblib'))\n",
    "joblib.dump(scaler, os.path.join(models_dir, 'scaler.joblib'))\n",
    "\n",
    "print(\"Model and scaler saved successfully!\")"
   ]
  }
 ],
 "metadata": {
  "kernelspec": {
   "display_name": "F1",
   "language": "python",
   "name": "python3"
  },
  "language_info": {
   "codemirror_mode": {
    "name": "ipython",
    "version": 3
   },
   "file_extension": ".py",
   "mimetype": "text/x-python",
   "name": "python",
   "nbconvert_exporter": "python",
   "pygments_lexer": "ipython3",
   "version": "3.13.2"
  }
 },
 "nbformat": 4,
 "nbformat_minor": 4
}

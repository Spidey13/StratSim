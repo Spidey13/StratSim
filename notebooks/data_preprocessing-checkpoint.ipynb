{
 "cells": [
  {
   "cell_type": "markdown",
   "metadata": {},
   "source": [
    "# F1 Data Preprocessing and Analysis\n",
    "\n",
    "This notebook demonstrates the data preprocessing pipeline for F1 race data. We'll go through:\n",
    "1. Loading and examining raw data\n",
    "2. Data cleaning and preprocessing\n",
    "3. Feature engineering\n",
    "4. Data validation\n",
    "5. Exploratory data analysis"
   ]
  },
  {
   "cell_type": "code",
   "execution_count": 1,
   "metadata": {},
   "outputs": [
    {
     "ename": "OSError",
     "evalue": "'seaborn' is not a valid package style, path of style file, URL of style file, or library style name (library styles are listed in `style.available`)",
     "output_type": "error",
     "traceback": [
      "\u001b[31m---------------------------------------------------------------------------\u001b[39m",
      "\u001b[31mFileNotFoundError\u001b[39m                         Traceback (most recent call last)",
      "\u001b[36mFile \u001b[39m\u001b[32mc:\\Users\\prath\\anaconda3\\envs\\F1\\Lib\\site-packages\\matplotlib\\style\\core.py:129\u001b[39m, in \u001b[36muse\u001b[39m\u001b[34m(style)\u001b[39m\n\u001b[32m    128\u001b[39m \u001b[38;5;28;01mtry\u001b[39;00m:\n\u001b[32m--> \u001b[39m\u001b[32m129\u001b[39m     style = \u001b[43m_rc_params_in_file\u001b[49m\u001b[43m(\u001b[49m\u001b[43mstyle\u001b[49m\u001b[43m)\u001b[49m\n\u001b[32m    130\u001b[39m \u001b[38;5;28;01mexcept\u001b[39;00m \u001b[38;5;167;01mOSError\u001b[39;00m \u001b[38;5;28;01mas\u001b[39;00m err:\n",
      "\u001b[36mFile \u001b[39m\u001b[32mc:\\Users\\prath\\anaconda3\\envs\\F1\\Lib\\site-packages\\matplotlib\\__init__.py:903\u001b[39m, in \u001b[36m_rc_params_in_file\u001b[39m\u001b[34m(fname, transform, fail_on_error)\u001b[39m\n\u001b[32m    902\u001b[39m rc_temp = {}\n\u001b[32m--> \u001b[39m\u001b[32m903\u001b[39m \u001b[38;5;28;01mwith\u001b[39;00m _open_file_or_url(fname) \u001b[38;5;28;01mas\u001b[39;00m fd:\n\u001b[32m    904\u001b[39m     \u001b[38;5;28;01mtry\u001b[39;00m:\n",
      "\u001b[36mFile \u001b[39m\u001b[32mc:\\Users\\prath\\anaconda3\\envs\\F1\\Lib\\contextlib.py:141\u001b[39m, in \u001b[36m_GeneratorContextManager.__enter__\u001b[39m\u001b[34m(self)\u001b[39m\n\u001b[32m    140\u001b[39m \u001b[38;5;28;01mtry\u001b[39;00m:\n\u001b[32m--> \u001b[39m\u001b[32m141\u001b[39m     \u001b[38;5;28;01mreturn\u001b[39;00m \u001b[38;5;28;43mnext\u001b[39;49m\u001b[43m(\u001b[49m\u001b[38;5;28;43mself\u001b[39;49m\u001b[43m.\u001b[49m\u001b[43mgen\u001b[49m\u001b[43m)\u001b[49m\n\u001b[32m    142\u001b[39m \u001b[38;5;28;01mexcept\u001b[39;00m \u001b[38;5;167;01mStopIteration\u001b[39;00m:\n",
      "\u001b[36mFile \u001b[39m\u001b[32mc:\\Users\\prath\\anaconda3\\envs\\F1\\Lib\\site-packages\\matplotlib\\__init__.py:880\u001b[39m, in \u001b[36m_open_file_or_url\u001b[39m\u001b[34m(fname)\u001b[39m\n\u001b[32m    879\u001b[39m fname = os.path.expanduser(fname)\n\u001b[32m--> \u001b[39m\u001b[32m880\u001b[39m \u001b[38;5;28;01mwith\u001b[39;00m \u001b[38;5;28;43mopen\u001b[39;49m\u001b[43m(\u001b[49m\u001b[43mfname\u001b[49m\u001b[43m,\u001b[49m\u001b[43m \u001b[49m\u001b[43mencoding\u001b[49m\u001b[43m=\u001b[49m\u001b[33;43m'\u001b[39;49m\u001b[33;43mutf-8\u001b[39;49m\u001b[33;43m'\u001b[39;49m\u001b[43m)\u001b[49m \u001b[38;5;28;01mas\u001b[39;00m f:\n\u001b[32m    881\u001b[39m     \u001b[38;5;28;01myield\u001b[39;00m f\n",
      "\u001b[31mFileNotFoundError\u001b[39m: [Errno 2] No such file or directory: 'seaborn'",
      "\nThe above exception was the direct cause of the following exception:\n",
      "\u001b[31mOSError\u001b[39m                                   Traceback (most recent call last)",
      "\u001b[36mCell\u001b[39m\u001b[36m \u001b[39m\u001b[32mIn[1]\u001b[39m\u001b[32m, line 13\u001b[39m\n\u001b[32m     10\u001b[39m \u001b[38;5;28;01mfrom\u001b[39;00m\u001b[38;5;250m \u001b[39m\u001b[34;01msrc\u001b[39;00m\u001b[34;01m.\u001b[39;00m\u001b[34;01mdata\u001b[39;00m\u001b[34;01m.\u001b[39;00m\u001b[34;01mpreprocessor\u001b[39;00m\u001b[38;5;250m \u001b[39m\u001b[38;5;28;01mimport\u001b[39;00m F1DataPreprocessor\n\u001b[32m     12\u001b[39m \u001b[38;5;66;03m# Set plotting style\u001b[39;00m\n\u001b[32m---> \u001b[39m\u001b[32m13\u001b[39m \u001b[43mplt\u001b[49m\u001b[43m.\u001b[49m\u001b[43mstyle\u001b[49m\u001b[43m.\u001b[49m\u001b[43muse\u001b[49m\u001b[43m(\u001b[49m\u001b[33;43m'\u001b[39;49m\u001b[33;43mseaborn\u001b[39;49m\u001b[33;43m'\u001b[39;49m\u001b[43m)\u001b[49m\n\u001b[32m     14\u001b[39m sns.set_palette(\u001b[33m'\u001b[39m\u001b[33mhusl\u001b[39m\u001b[33m'\u001b[39m)\n\u001b[32m     16\u001b[39m \u001b[38;5;66;03m# Configure pandas display options\u001b[39;00m\n",
      "\u001b[36mFile \u001b[39m\u001b[32mc:\\Users\\prath\\anaconda3\\envs\\F1\\Lib\\site-packages\\matplotlib\\style\\core.py:131\u001b[39m, in \u001b[36muse\u001b[39m\u001b[34m(style)\u001b[39m\n\u001b[32m    129\u001b[39m         style = _rc_params_in_file(style)\n\u001b[32m    130\u001b[39m     \u001b[38;5;28;01mexcept\u001b[39;00m \u001b[38;5;167;01mOSError\u001b[39;00m \u001b[38;5;28;01mas\u001b[39;00m err:\n\u001b[32m--> \u001b[39m\u001b[32m131\u001b[39m         \u001b[38;5;28;01mraise\u001b[39;00m \u001b[38;5;167;01mOSError\u001b[39;00m(\n\u001b[32m    132\u001b[39m             \u001b[33mf\u001b[39m\u001b[33m\"\u001b[39m\u001b[38;5;132;01m{\u001b[39;00mstyle\u001b[38;5;132;01m!r}\u001b[39;00m\u001b[33m is not a valid package style, path of style \u001b[39m\u001b[33m\"\u001b[39m\n\u001b[32m    133\u001b[39m             \u001b[33mf\u001b[39m\u001b[33m\"\u001b[39m\u001b[33mfile, URL of style file, or library style name (library \u001b[39m\u001b[33m\"\u001b[39m\n\u001b[32m    134\u001b[39m             \u001b[33mf\u001b[39m\u001b[33m\"\u001b[39m\u001b[33mstyles are listed in `style.available`)\u001b[39m\u001b[33m\"\u001b[39m) \u001b[38;5;28;01mfrom\u001b[39;00m\u001b[38;5;250m \u001b[39m\u001b[34;01merr\u001b[39;00m\n\u001b[32m    135\u001b[39m filtered = {}\n\u001b[32m    136\u001b[39m \u001b[38;5;28;01mfor\u001b[39;00m k \u001b[38;5;129;01min\u001b[39;00m style:  \u001b[38;5;66;03m# don't trigger RcParams.__getitem__('backend')\u001b[39;00m\n",
      "\u001b[31mOSError\u001b[39m: 'seaborn' is not a valid package style, path of style file, URL of style file, or library style name (library styles are listed in `style.available`)"
     ]
    }
   ],
   "source": [
    "import pandas as pd\n",
    "import numpy as np\n",
    "import matplotlib.pyplot as plt\n",
    "import seaborn as sns\n",
    "from pathlib import Path\n",
    "import sys\n",
    "\n",
    "# Add src to path\n",
    "sys.path.append('..')\n",
    "from src.data.preprocessor import F1DataPreprocessor\n",
    "\n",
    "# Set plotting style\n",
    "plt.style.use('seaborn')\n",
    "sns.set_palette('husl')\n",
    "\n",
    "# Configure pandas display options\n",
    "pd.set_option('display.max_columns', None)\n",
    "pd.set_option('display.max_rows', 50)"
   ]
  },
  {
   "cell_type": "markdown",
   "metadata": {},
   "source": [
    "## 1. Load Raw Data\n",
    "\n",
    "First, let's load and examine the raw F1 data."
   ]
  },
  {
   "cell_type": "code",
   "execution_count": null,
   "metadata": {},
   "outputs": [],
   "source": [
    "# Load raw data\n",
    "raw_data_path = '../data/processed/f1_2023_processed.csv'\n",
    "df_raw = pd.read_csv(raw_data_path, low_memory=False)\n",
    "\n",
    "print(\"Raw Data Shape:\", df_raw.shape)\n",
    "print(\"\\nColumns:\")\n",
    "for col in df_raw.columns:\n",
    "    print(f\"- {col}: {df_raw[col].dtype}\")\n",
    "\n",
    "print(\"\\nSample Data:\")\n",
    "df_raw.head()"
   ]
  },
  {
   "cell_type": "markdown",
   "metadata": {},
   "source": [
    "## 2. Analyze Missing Values\n",
    "\n",
    "Let's examine missing values in our dataset."
   ]
  },
  {
   "cell_type": "code",
   "execution_count": null,
   "metadata": {},
   "outputs": [],
   "source": [
    "# Calculate missing value statistics\n",
    "missing = df_raw.isnull().sum()\n",
    "missing_pct = (missing / len(df_raw)) * 100\n",
    "\n",
    "missing_df = pd.DataFrame({\n",
    "    'Missing Values': missing,\n",
    "    'Percentage': missing_pct\n",
    "}).sort_values('Percentage', ascending=False)\n",
    "\n",
    "# Plot missing values\n",
    "plt.figure(figsize=(12, 6))\n",
    "plt.bar(range(len(missing_df[missing_df['Percentage'] > 0])), \n",
    "        missing_df[missing_df['Percentage'] > 0]['Percentage'])\n",
    "plt.xticks(range(len(missing_df[missing_df['Percentage'] > 0])), \n",
    "           missing_df[missing_df['Percentage'] > 0].index, rotation=45)\n",
    "plt.title('Missing Values by Column')\n",
    "plt.ylabel('Percentage Missing')\n",
    "plt.tight_layout()\n",
    "\n",
    "print(\"Columns with missing values:\")\n",
    "print(missing_df[missing_df['Missing Values'] > 0])"
   ]
  },
  {
   "cell_type": "markdown",
   "metadata": {},
   "source": [
    "## 3. Preprocess Data\n",
    "\n",
    "Now let's run our preprocessing pipeline."
   ]
  },
  {
   "cell_type": "code",
   "execution_count": null,
   "metadata": {},
   "outputs": [],
   "source": [
    "# Initialize preprocessor\n",
    "preprocessor = F1DataPreprocessor()\n",
    "\n",
    "# Preprocess data\n",
    "df_processed = preprocessor.preprocess_data(df_raw)\n",
    "\n",
    "print(\"Processed Data Shape:\", df_processed.shape)\n",
    "print(\"\\nProcessed Data Types:\")\n",
    "print(df_processed.dtypes)"
   ]
  },
  {
   "cell_type": "markdown",
   "metadata": {},
   "source": [
    "## 4. Validate Processed Data\n",
    "\n",
    "Let's check the quality of our processed data."
   ]
  },
  {
   "cell_type": "code",
   "execution_count": null,
   "metadata": {},
   "outputs": [],
   "source": [
    "# Check remaining missing values\n",
    "missing_processed = df_processed.isnull().sum()\n",
    "print(\"Columns with missing values after processing:\")\n",
    "print(missing_processed[missing_processed > 0])\n",
    "\n",
    "# Check value ranges for numerical columns\n",
    "print(\"\\nValue ranges for numerical columns:\")\n",
    "numeric_cols = df_processed.select_dtypes(include=[np.number]).columns\n",
    "for col in numeric_cols:\n",
    "    print(f\"{col}: {df_processed[col].min()} - {df_processed[col].max()}\")"
   ]
  },
  {
   "cell_type": "markdown",
   "metadata": {},
   "source": [
    "## 5. Exploratory Data Analysis\n",
    "\n",
    "Let's visualize some key aspects of our processed data."
   ]
  },
  {
   "cell_type": "code",
   "execution_count": null,
   "metadata": {},
   "outputs": [],
   "source": [
    "# 1. Lap Time Distribution\n",
    "plt.figure(figsize=(12, 6))\n",
    "sns.histplot(data=df_processed, x='LapTime', bins=50)\n",
    "plt.title('Lap Time Distribution')\n",
    "plt.xlabel('Lap Time (seconds)')\n",
    "plt.show()\n",
    "\n",
    "# 2. Position Changes\n",
    "plt.figure(figsize=(12, 6))\n",
    "sns.boxplot(data=df_processed, x='Driver', y='Position')\n",
    "plt.xticks(rotation=45)\n",
    "plt.title('Position Distribution by Driver')\n",
    "plt.tight_layout()\n",
    "plt.show()\n",
    "\n",
    "# 3. Lap Time Evolution\n",
    "plt.figure(figsize=(15, 6))\n",
    "for driver in df_processed['Driver'].unique()[:5]:  # Plot top 5 drivers\n",
    "    driver_data = df_processed[df_processed['Driver'] == driver]\n",
    "    plt.plot(driver_data['LapNumber'], driver_data['LapTime'], label=driver)\n",
    "plt.title('Lap Time Evolution')\n",
    "plt.xlabel('Lap Number')\n",
    "plt.ylabel('Lap Time (seconds)')\n",
    "plt.legend()\n",
    "plt.show()"
   ]
  },
  {
   "cell_type": "markdown",
   "metadata": {},
   "source": [
    "## 6. Feature Analysis\n",
    "\n",
    "Let's examine our derived features."
   ]
  },
  {
   "cell_type": "code",
   "execution_count": null,
   "metadata": {},
   "outputs": [],
   "source": [
    "# 1. Lap Time Delta Distribution\n",
    "plt.figure(figsize=(12, 6))\n",
    "sns.histplot(data=df_processed, x='LapTimeDelta', bins=50)\n",
    "plt.title('Lap Time Delta Distribution')\n",
    "plt.xlabel('Lap Time Delta (seconds)')\n",
    "plt.show()\n",
    "\n",
    "# 2. Position Changes\n",
    "plt.figure(figsize=(12, 6))\n",
    "sns.histplot(data=df_processed, x='PositionChange', bins=20)\n",
    "plt.title('Position Changes Distribution')\n",
    "plt.xlabel('Position Change')\n",
    "plt.show()\n",
    "\n",
    "# 3. Sector Time Analysis\n",
    "sector_cols = ['Sector1Time', 'Sector2Time', 'Sector3Time']\n",
    "if all(col in df_processed.columns for col in sector_cols):\n",
    "    plt.figure(figsize=(15, 5))\n",
    "    for i, col in enumerate(sector_cols, 1):\n",
    "        plt.subplot(1, 3, i)\n",
    "        sns.boxplot(data=df_processed, y=col)\n",
    "        plt.title(f'{col} Distribution')\n",
    "    plt.tight_layout()\n",
    "    plt.show()"
   ]
  },
  {
   "cell_type": "markdown",
   "metadata": {},
   "source": [
    "## 7. Save Processed Data\n",
    "\n",
    "Finally, let's save our processed dataset."
   ]
  },
  {
   "cell_type": "code",
   "execution_count": null,
   "metadata": {},
   "outputs": [],
   "source": [
    "# Save processed data\n",
    "output_path = '../data/processed/f1_2023_cleaned.csv'\n",
    "df_processed.to_csv(output_path, index=False)\n",
    "print(f\"Processed data saved to: {output_path}\")"
   ]
  }
 ],
 "metadata": {
  "kernelspec": {
   "display_name": "F1",
   "language": "python",
   "name": "python3"
  },
  "language_info": {
   "codemirror_mode": {
    "name": "ipython",
    "version": 3
   },
   "file_extension": ".py",
   "mimetype": "text/x-python",
   "name": "python",
   "nbconvert_exporter": "python",
   "pygments_lexer": "ipython3",
   "version": "3.13.2"
  }
 },
 "nbformat": 4,
 "nbformat_minor": 4
}
